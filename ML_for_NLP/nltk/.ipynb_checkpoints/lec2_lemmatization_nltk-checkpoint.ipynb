{
 "cells": [
  {
   "cell_type": "code",
   "execution_count": 4,
   "metadata": {},
   "outputs": [
    {
     "name": "stderr",
     "output_type": "stream",
     "text": [
      "[nltk_data] Downloading package wordnet to /home/jovyan/nltk_data...\n"
     ]
    },
    {
     "data": {
      "text/plain": [
       "True"
      ]
     },
     "execution_count": 4,
     "metadata": {},
     "output_type": "execute_result"
    }
   ],
   "source": [
    "import nltk\n",
    "nltk.download('wordnet')"
   ]
  },
  {
   "cell_type": "code",
   "execution_count": null,
   "metadata": {},
   "outputs": [],
   "source": [
    "# use cases: Q&A, chatbot, text summarization"
   ]
  },
  {
   "cell_type": "code",
   "execution_count": 5,
   "metadata": {},
   "outputs": [],
   "source": [
    "# small discussion has been done in my notes.\n",
    "# it changes words to their root *word*\n",
    "# lets use the same words list\n",
    "words = [\"go\", \"going\", \"gone\", \"explaination\", \"explained\", \"congratulated\", \"congratulations\"]"
   ]
  },
  {
   "cell_type": "code",
   "execution_count": 6,
   "metadata": {},
   "outputs": [],
   "source": [
    "# WordNetLemmatizer is a thin wrapper around wordnet corpus.\n",
    "from nltk.stem import WordNetLemmatizer"
   ]
  },
  {
   "cell_type": "code",
   "execution_count": 12,
   "metadata": {},
   "outputs": [
    {
     "name": "stdout",
     "output_type": "stream",
     "text": [
      "going\n"
     ]
    },
    {
     "data": {
      "text/plain": [
       "'\\npos:\\nnoun-n\\nverb-v\\nadjective-a\\nadverb-r\\n'"
      ]
     },
     "execution_count": 12,
     "metadata": {},
     "output_type": "execute_result"
    }
   ],
   "source": [
    "lemmatizer = WordNetLemmatizer()\n",
    "# simple example\n",
    "print(lemmatizer.lemmatize(\"going\", pos=\"n\"))\n",
    "# NOTICE: pos arguement should have the type of word. \n",
    "\"\"\"\n",
    "pos:\n",
    "noun-n\n",
    "verb-v\n",
    "adjective-a\n",
    "adverb-r\n",
    "\"\"\""
   ]
  },
  {
   "cell_type": "code",
   "execution_count": 13,
   "metadata": {},
   "outputs": [
    {
     "name": "stdout",
     "output_type": "stream",
     "text": [
      "go\n"
     ]
    }
   ],
   "source": [
    "# change pos to verb\n",
    "print(lemmatizer.lemmatize(\"going\", pos=\"v\"))"
   ]
  },
  {
   "cell_type": "code",
   "execution_count": 14,
   "metadata": {},
   "outputs": [
    {
     "name": "stdout",
     "output_type": "stream",
     "text": [
      "go->go\n",
      "going->going\n",
      "gone->gone\n",
      "explaination->explaination\n",
      "explained->explained\n",
      "congratulated->congratulated\n",
      "congratulations->congratulation\n"
     ]
    }
   ],
   "source": [
    "# without verb pos\n",
    "for word in words:\n",
    "    print(word + \"->\" + lemmatizer.lemmatize(word)) # default: pos=\"n\""
   ]
  },
  {
   "cell_type": "code",
   "execution_count": 15,
   "metadata": {},
   "outputs": [
    {
     "name": "stdout",
     "output_type": "stream",
     "text": [
      "go->go\n",
      "going->go\n",
      "gone->go\n",
      "explaination->explaination\n",
      "explained->explain\n",
      "congratulated->congratulate\n",
      "congratulations->congratulations\n"
     ]
    }
   ],
   "source": [
    "# with verb pos\n",
    "for word in words:\n",
    "    print(word + \"->\" + lemmatizer.lemmatize(word, pos=\"v\"))"
   ]
  },
  {
   "cell_type": "code",
   "execution_count": null,
   "metadata": {},
   "outputs": [],
   "source": [
    "# basically, lemmatization preserves the meaning of words. "
   ]
  }
 ],
 "metadata": {
  "kernelspec": {
   "display_name": "Python [conda env:.conda-nlp_preprocess]",
   "language": "python",
   "name": "conda-env-.conda-nlp_preprocess-py"
  },
  "language_info": {
   "codemirror_mode": {
    "name": "ipython",
    "version": 3
   },
   "file_extension": ".py",
   "mimetype": "text/x-python",
   "name": "python",
   "nbconvert_exporter": "python",
   "pygments_lexer": "ipython3",
   "version": "3.10.14"
  }
 },
 "nbformat": 4,
 "nbformat_minor": 4
}
