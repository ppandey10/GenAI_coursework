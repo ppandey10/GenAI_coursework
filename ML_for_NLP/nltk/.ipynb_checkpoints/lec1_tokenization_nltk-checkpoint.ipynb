{
 "cells": [
  {
   "cell_type": "code",
   "execution_count": 1,
   "metadata": {},
   "outputs": [
    {
     "name": "stderr",
     "output_type": "stream",
     "text": [
      "[nltk_data] Downloading package punkt to /home/jovyan/nltk_data...\n",
      "[nltk_data]   Package punkt is already up-to-date!\n",
      "[nltk_data] Downloading package punkt_tab to /home/jovyan/nltk_data...\n",
      "[nltk_data]   Package punkt_tab is already up-to-date!\n"
     ]
    },
    {
     "data": {
      "text/plain": [
       "True"
      ]
     },
     "execution_count": 1,
     "metadata": {},
     "output_type": "execute_result"
    }
   ],
   "source": [
    "import nltk\n",
    "nltk.download('punkt')\n",
    "nltk.download('punkt_tab')"
   ]
  },
  {
   "cell_type": "code",
   "execution_count": 2,
   "metadata": {},
   "outputs": [],
   "source": [
    "# consider a paragraph\n",
    "corpus = \"\"\"Hi, my name is Prasoon. \n",
    "I am pursuing my master's in physics from FSU, Jena. I hope you have a great day!\n",
    "\"\"\""
   ]
  },
  {
   "cell_type": "code",
   "execution_count": 3,
   "metadata": {},
   "outputs": [
    {
     "name": "stdout",
     "output_type": "stream",
     "text": [
      "Hi, my name is Prasoon. \n",
      "I am pursuing my master's in physics from FSU, Jena. I hope you have a great day!\n",
      "\n"
     ]
    }
   ],
   "source": [
    "print(corpus)"
   ]
  },
  {
   "cell_type": "code",
   "execution_count": 4,
   "metadata": {},
   "outputs": [],
   "source": [
    "# paragraph -> sentences\n",
    "from nltk.tokenize import sent_tokenize"
   ]
  },
  {
   "cell_type": "code",
   "execution_count": 5,
   "metadata": {},
   "outputs": [
    {
     "name": "stdout",
     "output_type": "stream",
     "text": [
      "['Hi, my name is Prasoon.', \"I am pursuing my master's in physics from FSU, Jena.\", 'I hope you have a great day!']\n",
      "<class 'list'>\n"
     ]
    }
   ],
   "source": [
    "sentences = sent_tokenize(corpus) # can change the language as well\n",
    "print(sentences)\n",
    "print(type(sentences))"
   ]
  },
  {
   "cell_type": "code",
   "execution_count": 6,
   "metadata": {},
   "outputs": [
    {
     "name": "stdout",
     "output_type": "stream",
     "text": [
      "Hi, my name is Prasoon.\n",
      "I am pursuing my master's in physics from FSU, Jena.\n",
      "I hope you have a great day!\n"
     ]
    }
   ],
   "source": [
    "for sentence in sentences:\n",
    "    print(sentence)"
   ]
  },
  {
   "cell_type": "code",
   "execution_count": 7,
   "metadata": {},
   "outputs": [],
   "source": [
    "# word tokenzation\n",
    "from nltk.tokenize import word_tokenize"
   ]
  },
  {
   "cell_type": "code",
   "execution_count": 9,
   "metadata": {},
   "outputs": [
    {
     "name": "stdout",
     "output_type": "stream",
     "text": [
      "['Hi', ',', 'my', 'name', 'is', 'Prasoon', '.', 'I', 'am', 'pursuing', 'my', 'master', \"'s\", 'in', 'physics', 'from', 'FSU', ',', 'Jena', '.', 'I', 'hope', 'you', 'have', 'a', 'great', 'day', '!']\n"
     ]
    }
   ],
   "source": [
    "# paragraph -> words\n",
    "words = word_tokenize(corpus)\n",
    "print(words)\n",
    "# NOTICE: master's"
   ]
  },
  {
   "cell_type": "code",
   "execution_count": 10,
   "metadata": {},
   "outputs": [
    {
     "name": "stdout",
     "output_type": "stream",
     "text": [
      "['Hi', ',', 'my', 'name', 'is', 'Prasoon', '.']\n",
      "['I', 'am', 'pursuing', 'my', 'master', \"'s\", 'in', 'physics', 'from', 'FSU', ',', 'Jena', '.']\n",
      "['I', 'hope', 'you', 'have', 'a', 'great', 'day', '!']\n"
     ]
    }
   ],
   "source": [
    "# sentences -> words\n",
    "for sentence in sentences:\n",
    "    print(word_tokenize(sentence))"
   ]
  },
  {
   "cell_type": "code",
   "execution_count": 11,
   "metadata": {},
   "outputs": [],
   "source": [
    "# other ways to tokenize words\n",
    "from nltk.tokenize import wordpunct_tokenize"
   ]
  },
  {
   "cell_type": "code",
   "execution_count": 12,
   "metadata": {},
   "outputs": [
    {
     "name": "stdout",
     "output_type": "stream",
     "text": [
      "['Hi', ',', 'my', 'name', 'is', 'Prasoon', '.', 'I', 'am', 'pursuing', 'my', 'master', \"'\", 's', 'in', 'physics', 'from', 'FSU', ',', 'Jena', '.', 'I', 'hope', 'you', 'have', 'a', 'great', 'day', '!']\n"
     ]
    }
   ],
   "source": [
    "new_words = wordpunct_tokenize(corpus)\n",
    "print(new_words)\n",
    "# NOTICE: master's\n",
    "# punctuations are seperated as well"
   ]
  },
  {
   "cell_type": "code",
   "execution_count": 13,
   "metadata": {},
   "outputs": [],
   "source": [
    "# one last word tokenizer\n",
    "from nltk.tokenize import TreebankWordTokenizer"
   ]
  },
  {
   "cell_type": "code",
   "execution_count": 15,
   "metadata": {},
   "outputs": [
    {
     "name": "stdout",
     "output_type": "stream",
     "text": [
      "['Hi', ',', 'my', 'name', 'is', 'Prasoon.', 'I', 'am', 'pursuing', 'my', 'master', \"'s\", 'in', 'physics', 'from', 'FSU', ',', 'Jena.', 'I', 'hope', 'you', 'have', 'a', 'great', 'day', '!']\n"
     ]
    }
   ],
   "source": [
    "treebank_tokenizer = TreebankWordTokenizer()\n",
    "treebank_words = treebank_tokenizer.tokenize(corpus)\n",
    "print(treebank_words)\n",
    "# NOTICE: \"Jena.\" and \"great day!\""
   ]
  }
 ],
 "metadata": {
  "kernelspec": {
   "display_name": "Python [conda env:.conda-nlp_preprocess]",
   "language": "python",
   "name": "conda-env-.conda-nlp_preprocess-py"
  },
  "language_info": {
   "codemirror_mode": {
    "name": "ipython",
    "version": 3
   },
   "file_extension": ".py",
   "mimetype": "text/x-python",
   "name": "python",
   "nbconvert_exporter": "python",
   "pygments_lexer": "ipython3",
   "version": "3.10.14"
  }
 },
 "nbformat": 4,
 "nbformat_minor": 4
}
