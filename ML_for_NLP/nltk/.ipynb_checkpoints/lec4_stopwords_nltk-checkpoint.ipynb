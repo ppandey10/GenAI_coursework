{
 "cells": [
  {
   "cell_type": "code",
   "execution_count": 1,
   "metadata": {},
   "outputs": [],
   "source": [
    "# Why do we need stopwords and more importantly what are stopwords?\n",
    "# Words that carry little to no meaningful information are called stopwords. Eg: is, was, have, has, I, They etc..\n",
    "# Since these words appear frequently in text but don't contribute much to the actual meaning, many NLP applications, \n",
    "# such as search engines or text analysis tools, remove them to focus on more meaningful content."
   ]
  },
  {
   "cell_type": "code",
   "execution_count": 2,
   "metadata": {},
   "outputs": [],
   "source": [
    "# the complete works of william shakespeare (https://www.gutenberg.org/)\n",
    "paragraph = \"\"\"When I consider everything that grows\n",
    "            Holds in perfection but a little moment.\n",
    "            That this huge stage presenteth nought but shows\n",
    "            Whereon the stars in secret influence comment.\n",
    "            When I perceive that men as plants increase,\n",
    "            Cheered and checked even by the self-same sky:\n",
    "            Vaunt in their youthful sap, at height decrease,\n",
    "            And wear their brave state out of memory.z\n",
    "            Then the conceit of this inconstant stay,\n",
    "            Sets you most rich in youth before my sight,\n",
    "            Where wasteful Time debateth with Decay\n",
    "            To change your day of youth to sullied night,\n",
    "            And all in war with Time for love of you,\n",
    "            As he takes from you, I engraft you new.\n",
    "            But wherefore do not you a mightier way\n",
    "            Make war upon this bloody tyrant Time?\n",
    "            And fortify yourself in your decay\n",
    "            With means more blessed than my barren rhyme?\n",
    "            Now stand you on the top of happy hours,\n",
    "            And many maiden gardens yet unset,\n",
    "            With virtuous wish would bear you living flowers,\n",
    "            Much liker than your painted counterfeit:\n",
    "            So should the lines of life that life repair\n",
    "            Which this (Time’s pencil) or my pupil pen\n",
    "            Neither in inward worth nor outward fair\n",
    "            Can make you live yourself in eyes of men.\"\"\""
   ]
  },
  {
   "cell_type": "code",
   "execution_count": 3,
   "metadata": {},
   "outputs": [],
   "source": [
    "# import from nltk library\n",
    "from nltk.corpus import stopwords"
   ]
  },
  {
   "cell_type": "code",
   "execution_count": 11,
   "metadata": {},
   "outputs": [
    {
     "name": "stderr",
     "output_type": "stream",
     "text": [
      "[nltk_data] Downloading package stopwords to /home/jovyan/nltk_data...\n",
      "[nltk_data]   Package stopwords is already up-to-date!\n",
      "[nltk_data] Downloading package punkt_tab to /home/jovyan/nltk_data...\n",
      "[nltk_data]   Unzipping tokenizers/punkt_tab.zip.\n"
     ]
    },
    {
     "data": {
      "text/plain": [
       "True"
      ]
     },
     "execution_count": 11,
     "metadata": {},
     "output_type": "execute_result"
    }
   ],
   "source": [
    "import nltk\n",
    "nltk.download('stopwords')\n",
    "nltk.download('punkt_tab')"
   ]
  },
  {
   "cell_type": "code",
   "execution_count": 7,
   "metadata": {},
   "outputs": [
    {
     "name": "stdout",
     "output_type": "stream",
     "text": [
      "stopwords in english language: \n",
      " ['i', 'me', 'my', 'myself', 'we', 'our', 'ours', 'ourselves', 'you', \"you're\", \"you've\", \"you'll\", \"you'd\", 'your', 'yours', 'yourself', 'yourselves', 'he', 'him', 'his', 'himself', 'she', \"she's\", 'her', 'hers', 'herself', 'it', \"it's\", 'its', 'itself', 'they', 'them', 'their', 'theirs', 'themselves', 'what', 'which', 'who', 'whom', 'this', 'that', \"that'll\", 'these', 'those', 'am', 'is', 'are', 'was', 'were', 'be', 'been', 'being', 'have', 'has', 'had', 'having', 'do', 'does', 'did', 'doing', 'a', 'an', 'the', 'and', 'but', 'if', 'or', 'because', 'as', 'until', 'while', 'of', 'at', 'by', 'for', 'with', 'about', 'against', 'between', 'into', 'through', 'during', 'before', 'after', 'above', 'below', 'to', 'from', 'up', 'down', 'in', 'out', 'on', 'off', 'over', 'under', 'again', 'further', 'then', 'once', 'here', 'there', 'when', 'where', 'why', 'how', 'all', 'any', 'both', 'each', 'few', 'more', 'most', 'other', 'some', 'such', 'no', 'nor', 'not', 'only', 'own', 'same', 'so', 'than', 'too', 'very', 's', 't', 'can', 'will', 'just', 'don', \"don't\", 'should', \"should've\", 'now', 'd', 'll', 'm', 'o', 're', 've', 'y', 'ain', 'aren', \"aren't\", 'couldn', \"couldn't\", 'didn', \"didn't\", 'doesn', \"doesn't\", 'hadn', \"hadn't\", 'hasn', \"hasn't\", 'haven', \"haven't\", 'isn', \"isn't\", 'ma', 'mightn', \"mightn't\", 'mustn', \"mustn't\", 'needn', \"needn't\", 'shan', \"shan't\", 'shouldn', \"shouldn't\", 'wasn', \"wasn't\", 'weren', \"weren't\", 'won', \"won't\", 'wouldn', \"wouldn't\"]\n"
     ]
    }
   ],
   "source": [
    "# lets look at the stopwords. we have different stopwords for different languages. \n",
    "print(\"stopwords in english language: \\n\", stopwords.words(\"english\"))"
   ]
  },
  {
   "cell_type": "code",
   "execution_count": 9,
   "metadata": {},
   "outputs": [
    {
     "name": "stdout",
     "output_type": "stream",
     "text": [
      "stopwords in english language: \n",
      " ['aber', 'alle', 'allem', 'allen', 'aller', 'alles', 'als', 'also', 'am', 'an', 'ander', 'andere', 'anderem', 'anderen', 'anderer', 'anderes', 'anderm', 'andern', 'anderr', 'anders', 'auch', 'auf', 'aus', 'bei', 'bin', 'bis', 'bist', 'da', 'damit', 'dann', 'der', 'den', 'des', 'dem', 'die', 'das', 'dass', 'daß', 'derselbe', 'derselben', 'denselben', 'desselben', 'demselben', 'dieselbe', 'dieselben', 'dasselbe', 'dazu', 'dein', 'deine', 'deinem', 'deinen', 'deiner', 'deines', 'denn', 'derer', 'dessen', 'dich', 'dir', 'du', 'dies', 'diese', 'diesem', 'diesen', 'dieser', 'dieses', 'doch', 'dort', 'durch', 'ein', 'eine', 'einem', 'einen', 'einer', 'eines', 'einig', 'einige', 'einigem', 'einigen', 'einiger', 'einiges', 'einmal', 'er', 'ihn', 'ihm', 'es', 'etwas', 'euer', 'eure', 'eurem', 'euren', 'eurer', 'eures', 'für', 'gegen', 'gewesen', 'hab', 'habe', 'haben', 'hat', 'hatte', 'hatten', 'hier', 'hin', 'hinter', 'ich', 'mich', 'mir', 'ihr', 'ihre', 'ihrem', 'ihren', 'ihrer', 'ihres', 'euch', 'im', 'in', 'indem', 'ins', 'ist', 'jede', 'jedem', 'jeden', 'jeder', 'jedes', 'jene', 'jenem', 'jenen', 'jener', 'jenes', 'jetzt', 'kann', 'kein', 'keine', 'keinem', 'keinen', 'keiner', 'keines', 'können', 'könnte', 'machen', 'man', 'manche', 'manchem', 'manchen', 'mancher', 'manches', 'mein', 'meine', 'meinem', 'meinen', 'meiner', 'meines', 'mit', 'muss', 'musste', 'nach', 'nicht', 'nichts', 'noch', 'nun', 'nur', 'ob', 'oder', 'ohne', 'sehr', 'sein', 'seine', 'seinem', 'seinen', 'seiner', 'seines', 'selbst', 'sich', 'sie', 'ihnen', 'sind', 'so', 'solche', 'solchem', 'solchen', 'solcher', 'solches', 'soll', 'sollte', 'sondern', 'sonst', 'über', 'um', 'und', 'uns', 'unsere', 'unserem', 'unseren', 'unser', 'unseres', 'unter', 'viel', 'vom', 'von', 'vor', 'während', 'war', 'waren', 'warst', 'was', 'weg', 'weil', 'weiter', 'welche', 'welchem', 'welchen', 'welcher', 'welches', 'wenn', 'werde', 'werden', 'wie', 'wieder', 'will', 'wir', 'wird', 'wirst', 'wo', 'wollen', 'wollte', 'würde', 'würden', 'zu', 'zum', 'zur', 'zwar', 'zwischen']\n"
     ]
    }
   ],
   "source": [
    "# german\n",
    "print(\"stopwords in english language: \\n\", stopwords.words(\"german\"))"
   ]
  },
  {
   "cell_type": "code",
   "execution_count": 13,
   "metadata": {},
   "outputs": [
    {
     "name": "stdout",
     "output_type": "stream",
     "text": [
      "['When I consider everything that grows\\n            Holds in perfection but a little moment.', 'That this huge stage presenteth nought but shows\\n            Whereon the stars in secret influence comment.', 'When I perceive that men as plants increase,\\n            Cheered and checked even by the self-same sky:\\n            Vaunt in their youthful sap, at height decrease,\\n            And wear their brave state out of memory.', 'Then the conceit of this inconstant stay,\\n            Sets you most rich in youth before my sight,\\n            Where wasteful Time debateth with Decay\\n            To change your day of youth to sullied night,\\n            And all in war with Time for love of you,\\n            As he takes from you, I engraft you new.', 'But wherefore do not you a mightier way\\n            Make war upon this bloody tyrant Time?', 'And fortify yourself in your decay\\n            With means more blessed than my barren rhyme?', 'Now stand you on the top of happy hours,\\n            And many maiden gardens yet unset,\\n            With virtuous wish would bear you living flowers,\\n            Much liker than your painted counterfeit:\\n            So should the lines of life that life repair\\n            Which this (Time’s pencil) or my pupil pen\\n            Neither in inward worth nor outward fair\\n            Can make you live yourself in eyes of men.']\n"
     ]
    }
   ],
   "source": [
    "# consider the paragraph -> filter the stopwords -> perform stemming\n",
    "# convert paragraph into sentences\n",
    "sentences = nltk.sent_tokenize(paragraph)\n",
    "print(sentences)"
   ]
  },
  {
   "cell_type": "code",
   "execution_count": 14,
   "metadata": {},
   "outputs": [],
   "source": [
    "# import stemmer\n",
    "from nltk.stem import SnowballStemmer"
   ]
  },
  {
   "cell_type": "code",
   "execution_count": 15,
   "metadata": {},
   "outputs": [],
   "source": [
    "snowball_stemmer = SnowballStemmer(language=\"english\")"
   ]
  },
  {
   "cell_type": "code",
   "execution_count": 17,
   "metadata": {},
   "outputs": [
    {
     "name": "stdout",
     "output_type": "stream",
     "text": [
      "['when i consid everyth grow hold perfect littl moment .', 'that huge stage presenteth nought show whereon star secret influenc comment .', 'when i perceiv men plant increas , cheer check even self-sam sky : vaunt youth sap , height decreas , and wear brave state memori .', 'then conceit inconst stay , set rich youth sight , where wast time debateth decay to chang day youth sulli night , and war time love , as take , i engraft new .', 'but wherefor mightier way make war upon bloodi tyrant time ?', 'and fortifi decay with mean bless barren rhyme ?', 'now stand top happi hour , and mani maiden garden yet unset , with virtuous wish would bear live flower , much liker paint counterfeit : so line life life repair which ( time ’ pencil ) pupil pen neither inward worth outward fair can make live eye men .']\n"
     ]
    }
   ],
   "source": [
    "# main task\n",
    "for i in range(len(sentences)):\n",
    "    words = nltk.word_tokenize(sentences[i])\n",
    "    words = [snowball_stemmer.stem(word) for word in words if word not in set(stopwords.words(\"english\"))]\n",
    "    sentences[i] = ' '.join(words)\n",
    "\n",
    "print(sentences)\n",
    "# NOTICE: no captial letters. "
   ]
  },
  {
   "cell_type": "code",
   "execution_count": 18,
   "metadata": {},
   "outputs": [],
   "source": [
    "# obviously, there will be words with no meaning due to the stemming approach.\n",
    "# we can also work with lemmatization\n",
    "from nltk.stem import WordNetLemmatizer"
   ]
  },
  {
   "cell_type": "code",
   "execution_count": 19,
   "metadata": {},
   "outputs": [],
   "source": [
    "lemmatizer = WordNetLemmatizer()"
   ]
  },
  {
   "cell_type": "code",
   "execution_count": 20,
   "metadata": {},
   "outputs": [],
   "source": [
    "# intialise the sentences, once again\n",
    "sentences = nltk.sent_tokenize(paragraph)"
   ]
  },
  {
   "cell_type": "code",
   "execution_count": 22,
   "metadata": {},
   "outputs": [
    {
     "name": "stdout",
     "output_type": "stream",
     "text": [
      "['When I consider everything grow Holds perfection little moment .', 'That huge stage presenteth nought show Whereon star secret influence comment .', 'When I perceive men plant increase , Cheered check even self-same sky : Vaunt youthful sap , height decrease , And wear brave state memory .', 'Then conceit inconstant stay , Sets rich youth sight , Where wasteful Time debateth Decay To change day youth sully night , And war Time love , As take , I engraft new .', 'But wherefore mightier way Make war upon bloody tyrant Time ?', 'And fortify decay With mean bless barren rhyme ?', 'Now stand top happy hour , And many maiden garden yet unset , With virtuous wish would bear live flower , Much liker paint counterfeit : So line life life repair Which ( Time ’ pencil ) pupil pen Neither inward worth outward fair Can make live eye men .']\n"
     ]
    }
   ],
   "source": [
    "# main task\n",
    "for i in range(len(sentences)):\n",
    "#     sentences[i] = sentences[i].lower() # if you want to work with lower case of words\n",
    "    words = nltk.word_tokenize(sentences[i])\n",
    "    words = [lemmatizer.lemmatize(word, pos='v') for word in words if word not in set(stopwords.words(\"english\"))]\n",
    "    sentences[i] = ' '.join(words)\n",
    "\n",
    "print(sentences)\n",
    "# NOTICE: i have the captial letters and most importantly all the words make sense."
   ]
  },
  {
   "cell_type": "code",
   "execution_count": null,
   "metadata": {},
   "outputs": [],
   "source": []
  }
 ],
 "metadata": {
  "kernelspec": {
   "display_name": "Python [conda env:.conda-nlp_preprocess]",
   "language": "python",
   "name": "conda-env-.conda-nlp_preprocess-py"
  },
  "language_info": {
   "codemirror_mode": {
    "name": "ipython",
    "version": 3
   },
   "file_extension": ".py",
   "mimetype": "text/x-python",
   "name": "python",
   "nbconvert_exporter": "python",
   "pygments_lexer": "ipython3",
   "version": "3.10.14"
  }
 },
 "nbformat": 4,
 "nbformat_minor": 4
}
