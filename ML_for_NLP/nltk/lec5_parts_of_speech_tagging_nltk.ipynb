{
 "cells": [
  {
   "cell_type": "code",
   "execution_count": 1,
   "metadata": {},
   "outputs": [],
   "source": [
    "# where does this concept play a role?\n",
    "# when you have to provide the POS to a word in order to perform lemmatization."
   ]
  },
  {
   "cell_type": "raw",
   "metadata": {},
   "source": [
    "- CC: coordinating conjunction \n",
    "- CD cardinal digit \n",
    "- DT determiner \n",
    "- EX existential there (like: “there is” … think of it like “there exists”) \n",
    "FW foreign word \n",
    "IN preposition/subordinating conjunction \n",
    "JJ adjective – ‘big’ \n",
    "JJR adjective, comparative – ‘bigger’ \n",
    "JJS adjective, superlative – ‘biggest’ \n",
    "LS list marker 1) \n",
    "MD modal – could, will \n",
    "NN noun, singular ‘- desk’ \n",
    "NNS noun plural – ‘desks’ \n",
    "NNP proper noun, singular – ‘Harrison’ \n",
    "NNPS proper noun, plural – ‘Americans’ \n",
    "PDT predeterminer – ‘all the kids’ \n",
    "POS possessive ending parent’s \n",
    "PRP personal pronoun –  I, he, she \n",
    "PRP$ possessive pronoun – my, his, hers \n",
    "RB adverb – very, silently, \n",
    "RBR adverb, comparative – better \n",
    "RBS adverb, superlative – best \n",
    "RP particle – give up \n",
    "TO – to go ‘to’ the store. \n",
    "UH interjection – errrrrrrrm \n",
    "VB verb, base form – take \n",
    "VBD verb, past tense – took \n",
    "VBG verb, gerund/present participle – taking \n",
    "VBN verb, past participle – taken \n",
    "VBP verb, sing. present, non-3d – take \n",
    "VBZ verb, 3rd person sing. present – takes \n",
    "WDT wh-determiner – which \n",
    "WP wh-pronoun – who, what \n",
    "WP$ possessive wh-pronoun, eg- whose \n",
    "WRB wh-adverb, eg- where, when"
   ]
  },
  {
   "cell_type": "code",
   "execution_count": 2,
   "metadata": {},
   "outputs": [],
   "source": [
    "# the complete works of william shakespeare (https://www.gutenberg.org/)\n",
    "paragraph = \"\"\"When I consider everything that grows\n",
    "            Holds in perfection but a little moment.\n",
    "            That this huge stage presenteth nought but shows\n",
    "            Whereon the stars in secret influence comment.\n",
    "            When I perceive that men as plants increase,\n",
    "            Cheered and checked even by the self-same sky:\n",
    "            Vaunt in their youthful sap, at height decrease,\n",
    "            And wear their brave state out of memory.z\n",
    "            Then the conceit of this inconstant stay,\n",
    "            Sets you most rich in youth before my sight,\n",
    "            Where wasteful Time debateth with Decay\n",
    "            To change your day of youth to sullied night,\n",
    "            And all in war with Time for love of you,\n",
    "            As he takes from you, I engraft you new.\n",
    "            But wherefore do not you a mightier way\n",
    "            Make war upon this bloody tyrant Time?\n",
    "            And fortify yourself in your decay\n",
    "            With means more blessed than my barren rhyme?\n",
    "            Now stand you on the top of happy hours,\n",
    "            And many maiden gardens yet unset,\n",
    "            With virtuous wish would bear you living flowers,\n",
    "            Much liker than your painted counterfeit:\n",
    "            So should the lines of life that life repair\n",
    "            Which this (Time’s pencil) or my pupil pen\n",
    "            Neither in inward worth nor outward fair\n",
    "            Can make you live yourself in eyes of men.\"\"\""
   ]
  },
  {
   "cell_type": "code",
   "execution_count": 9,
   "metadata": {},
   "outputs": [
    {
     "name": "stderr",
     "output_type": "stream",
     "text": [
      "[nltk_data] Downloading package averaged_perceptron_tagger_eng to\n",
      "[nltk_data]     /home/jovyan/nltk_data...\n",
      "[nltk_data]   Unzipping taggers/averaged_perceptron_tagger_eng.zip.\n"
     ]
    },
    {
     "data": {
      "text/plain": [
       "True"
      ]
     },
     "execution_count": 9,
     "metadata": {},
     "output_type": "execute_result"
    }
   ],
   "source": [
    "# get stopwords, nltk\n",
    "import nltk\n",
    "from nltk.corpus import stopwords\n",
    "nltk.download('averaged_perceptron_tagger_eng')"
   ]
  },
  {
   "cell_type": "code",
   "execution_count": 7,
   "metadata": {},
   "outputs": [
    {
     "name": "stdout",
     "output_type": "stream",
     "text": [
      "['When I consider everything that grows\\n            Holds in perfection but a little moment.', 'That this huge stage presenteth nought but shows\\n            Whereon the stars in secret influence comment.', 'When I perceive that men as plants increase,\\n            Cheered and checked even by the self-same sky:\\n            Vaunt in their youthful sap, at height decrease,\\n            And wear their brave state out of memory.z\\n            Then the conceit of this inconstant stay,\\n            Sets you most rich in youth before my sight,\\n            Where wasteful Time debateth with Decay\\n            To change your day of youth to sullied night,\\n            And all in war with Time for love of you,\\n            As he takes from you, I engraft you new.', 'But wherefore do not you a mightier way\\n            Make war upon this bloody tyrant Time?', 'And fortify yourself in your decay\\n            With means more blessed than my barren rhyme?', 'Now stand you on the top of happy hours,\\n            And many maiden gardens yet unset,\\n            With virtuous wish would bear you living flowers,\\n            Much liker than your painted counterfeit:\\n            So should the lines of life that life repair\\n            Which this (Time’s pencil) or my pupil pen\\n            Neither in inward worth nor outward fair\\n            Can make you live yourself in eyes of men.']\n"
     ]
    }
   ],
   "source": [
    "# get sentences\n",
    "sentences = nltk.sent_tokenize(paragraph)\n",
    "print(sentences)"
   ]
  },
  {
   "cell_type": "code",
   "execution_count": 10,
   "metadata": {},
   "outputs": [
    {
     "name": "stdout",
     "output_type": "stream",
     "text": [
      "[('When', 'WRB'), ('I', 'PRP'), ('consider', 'VBP'), ('everything', 'NN'), ('grows', 'NNS'), ('Holds', 'NNP'), ('perfection', 'NN'), ('little', 'JJ'), ('moment', 'NN'), ('.', '.')]\n",
      "[('That', 'DT'), ('huge', 'JJ'), ('stage', 'NN'), ('presenteth', 'NN'), ('nought', 'NN'), ('shows', 'VBZ'), ('Whereon', 'NNP'), ('stars', 'NNS'), ('secret', 'JJ'), ('influence', 'NN'), ('comment', 'NN'), ('.', '.')]\n",
      "[('When', 'WRB'), ('I', 'PRP'), ('perceive', 'VBP'), ('men', 'NNS'), ('plants', 'NNS'), ('increase', 'NN'), (',', ','), ('Cheered', 'NNP'), ('checked', 'VBD'), ('even', 'RB'), ('self-same', 'JJ'), ('sky', 'NN'), (':', ':'), ('Vaunt', 'NNP'), ('youthful', 'JJ'), ('sap', 'NN'), (',', ','), ('height', 'JJ'), ('decrease', 'NN'), (',', ','), ('And', 'CC'), ('wear', 'JJ'), ('brave', 'NN'), ('state', 'NN'), ('memory.z', 'NN'), ('Then', 'RB'), ('conceit', 'VBZ'), ('inconstant', 'JJ'), ('stay', 'NN'), (',', ','), ('Sets', 'NNP'), ('rich', 'VBP'), ('youth', 'NN'), ('sight', 'NN'), (',', ','), ('Where', 'WRB'), ('wasteful', 'JJ'), ('Time', 'NNP'), ('debateth', 'VBZ'), ('Decay', 'NNP'), ('To', 'TO'), ('change', 'VB'), ('day', 'NN'), ('youth', 'RB'), ('sullied', 'VBD'), ('night', 'NN'), (',', ','), ('And', 'CC'), ('war', 'NN'), ('Time', 'NNP'), ('love', 'NN'), (',', ','), ('As', 'IN'), ('takes', 'VBZ'), (',', ','), ('I', 'PRP'), ('engraft', 'VBP'), ('new', 'JJ'), ('.', '.')]\n",
      "[('But', 'CC'), ('wherefore', 'RB'), ('mightier', 'JJ'), ('way', 'NN'), ('Make', 'NNP'), ('war', 'NN'), ('upon', 'IN'), ('bloody', 'NN'), ('tyrant', 'JJ'), ('Time', 'NNP'), ('?', '.')]\n",
      "[('And', 'CC'), ('fortify', 'VB'), ('decay', 'NN'), ('With', 'IN'), ('means', 'NNS'), ('blessed', 'VBN'), ('barren', 'NNS'), ('rhyme', 'VB'), ('?', '.')]\n",
      "[('Now', 'RB'), ('stand', 'VBP'), ('top', 'JJ'), ('happy', 'JJ'), ('hours', 'NNS'), (',', ','), ('And', 'CC'), ('many', 'JJ'), ('maiden', 'NN'), ('gardens', 'NNS'), ('yet', 'RB'), ('unset', 'VBN'), (',', ','), ('With', 'IN'), ('virtuous', 'JJ'), ('wish', 'NNS'), ('would', 'MD'), ('bear', 'VB'), ('living', 'VBG'), ('flowers', 'NNS'), (',', ','), ('Much', 'JJ'), ('liker', 'NN'), ('painted', 'VBD'), ('counterfeit', 'NN'), (':', ':'), ('So', 'CC'), ('lines', 'NNS'), ('life', 'NN'), ('life', 'NN'), ('repair', 'NN'), ('Which', 'NNP'), ('(', '('), ('Time', 'NNP'), ('’', 'NNP'), ('pencil', 'NN'), (')', ')'), ('pupil', 'NN'), ('pen', 'VBP'), ('Neither', 'NNP'), ('inward', 'NN'), ('worth', 'NN'), ('outward', 'RB'), ('fair', 'JJ'), ('Can', 'NNP'), ('make', 'VB'), ('live', 'JJ'), ('eyes', 'NNS'), ('men', 'NNS'), ('.', '.')]\n"
     ]
    }
   ],
   "source": [
    "for i in range(len(sentences)):\n",
    "    words = nltk.word_tokenize(sentences[i])\n",
    "    words = [word for word in words if word not in set(stopwords.words(\"english\"))]\n",
    "    # sentences[i] = ' '.join(words)\n",
    "    # pos_tag\n",
    "    pos_tag_words = nltk.pos_tag(words)\n",
    "    print(pos_tag_words)\n",
    "\n",
    "# print(sentences)"
   ]
  },
  {
   "cell_type": "code",
   "execution_count": 13,
   "metadata": {},
   "outputs": [
    {
     "name": "stdout",
     "output_type": "stream",
     "text": [
      "['I', 'like', 'to', 'hear', 'classical', 'songs.']\n",
      "[('I', 'PRP'), ('like', 'VBP'), ('to', 'TO'), ('hear', 'VB'), ('classical', 'JJ'), ('songs.', 'NN')]\n"
     ]
    }
   ],
   "source": [
    "# lets add a custom sentence\n",
    "sent = \"I like to hear classical songs.\"\n",
    "print(sent.split()) # gives me a list of words in a sentence\n",
    "print(nltk.pos_tag(sent.split()))"
   ]
  }
 ],
 "metadata": {
  "kernelspec": {
   "display_name": "Python [conda env:.conda-nlp_preprocess]",
   "language": "python",
   "name": "conda-env-.conda-nlp_preprocess-py"
  },
  "language_info": {
   "codemirror_mode": {
    "name": "ipython",
    "version": 3
   },
   "file_extension": ".py",
   "mimetype": "text/x-python",
   "name": "python",
   "nbconvert_exporter": "python",
   "pygments_lexer": "ipython3",
   "version": "3.10.14"
  }
 },
 "nbformat": 4,
 "nbformat_minor": 4
}
